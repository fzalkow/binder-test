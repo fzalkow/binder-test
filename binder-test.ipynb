{
 "cells": [
  {
   "cell_type": "code",
   "execution_count": null,
   "metadata": {},
   "outputs": [],
   "source": [
    "import numpy as np\n",
    "import matplotlib.pyplot as plt\n",
    "import librosa"
   ]
  },
  {
   "cell_type": "code",
   "execution_count": null,
   "metadata": {},
   "outputs": [],
   "source": [
    "duration = 1\n",
    "samplerate = 16000\n",
    "freq1 = 440\n",
    "freq2 = 880\n",
    "t = np.linspace(0, duration, samplerate)\n",
    "\n",
    "x1 = np.sin(2 * np.pi * freq1 * t[:len(t)//2])\n",
    "x2 = np.sin(2 * np.pi * freq2 * t[len(t)//2:])\n",
    "x = np.concatenate((x1, x2))"
   ]
  },
  {
   "cell_type": "code",
   "execution_count": null,
   "metadata": {},
   "outputs": [],
   "source": [
    "N = 1024\n",
    "H = 512\n",
    "X = librosa.stft(x, N, H, N, pad_mode='constant')"
   ]
  },
  {
   "cell_type": "code",
   "execution_count": null,
   "metadata": {},
   "outputs": [],
   "source": [
    "plt.imshow(np.abs(X), aspect='auto', origin='lower', cmap='gray_r')\n",
    "plt.colorbar()\n",
    "plt.xlabel('Time Index')\n",
    "plt.xlabel('Frequency Index')"
   ]
  },
  {
   "cell_type": "code",
   "execution_count": null,
   "metadata": {},
   "outputs": [],
   "source": []
  }
 ],
 "metadata": {
  "kernelspec": {
   "display_name": "Python 3",
   "language": "python",
   "name": "python3"
  },
  "language_info": {
   "codemirror_mode": {
    "name": "ipython",
    "version": 3
   },
   "file_extension": ".py",
   "mimetype": "text/x-python",
   "name": "python",
   "nbconvert_exporter": "python",
   "pygments_lexer": "ipython3",
   "version": "3.6.5"
  }
 },
 "nbformat": 4,
 "nbformat_minor": 2
}
